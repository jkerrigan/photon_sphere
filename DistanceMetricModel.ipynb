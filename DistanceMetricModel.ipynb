{
 "cells": [
  {
   "cell_type": "code",
   "execution_count": 232,
   "metadata": {},
   "outputs": [],
   "source": [
    "import pandas as pd\n",
    "import matplotlib.pyplot as pl\n",
    "import tensorflow as tf\n",
    "import numpy as np\n",
    "from sklearn.model_selection import train_test_split\n",
    "from tensorflow.keras.preprocessing.sequence import pad_sequences\n",
    "from tensorflow.keras.layers import Attention,Embedding,Dense,Input,Flatten,Concatenate,Dropout,Conv1D,GlobalMaxPool1D,BatchNormalization\n",
    "from tensorflow.keras import Model\n",
    "from tensorflow.keras.optimizers import SGD,Adam\n",
    "from tqdm import tqdm"
   ]
  },
  {
   "cell_type": "markdown",
   "metadata": {},
   "source": [
    "# Pull Gravity database"
   ]
  },
  {
   "cell_type": "code",
   "execution_count": 218,
   "metadata": {},
   "outputs": [],
   "source": [
    "import functions as fn\n",
    "grav_domains = fn.load_gravity(dir='').domain.values\n",
    "grav_df = pd.DataFrame({'domain':grav_domains,'blocked':np.ones(len(grav_domains))})"
   ]
  },
  {
   "cell_type": "markdown",
   "metadata": {},
   "source": [
    "# Pull PiHole DNS Data"
   ]
  },
  {
   "cell_type": "code",
   "execution_count": 222,
   "metadata": {},
   "outputs": [
    {
     "name": "stdout",
     "output_type": "stream",
     "text": [
      "0    mobile.pipe.aria.microsoft.com\n",
      "1    mobile.pipe.aria.microsoft.com\n",
      "2             telemetry.dropbox.com\n",
      "3                    login.live.com\n",
      "4                    edge.skype.com\n",
      "Name: domain, dtype: object\n"
     ]
    }
   ],
   "source": [
    "from sqlalchemy import create_engine\n",
    "\n",
    "db_connect = create_engine('sqlite:///pihole-FTL.db')\n",
    "connection = db_connect.raw_connection()\n",
    "df = pd.read_sql(\"SELECT * FROM queries\", con=connection)\n",
    "df['blocked'] = df.status.apply(lambda x: 0 if x in [2,3] else 1)           # 2,3 are domains blocked by gravity and\n",
    "                                                                            # blacklist\n",
    "df = pd.concat([df,grav_df]).reset_index()\n",
    "#df.domain = df.domain.apply(lambda x: x.replace('.',' ').replace('-',' ')) # Model performs better leaving DNS\n",
    "                                                                            # names as is\n",
    "\n",
    "np.savetxt('domains.txt',df.domain.values,fmt=\"%s\")\n",
    "print(df.domain.head())"
   ]
  },
  {
   "cell_type": "markdown",
   "metadata": {},
   "source": [
    "# Train/Load Tokenization Model"
   ]
  },
  {
   "cell_type": "code",
   "execution_count": 5,
   "metadata": {},
   "outputs": [
    {
     "name": "stdout",
     "output_type": "stream",
     "text": [
      "[[95], [150], [114], [286], [212], [171], [], [93], [286], [93], [171], [], [165], [4, 15], [286], [165], [], [95], [286], [104], [4, 15], [150], [80], [150], [184], [130], [], [104], [150], [95]]\n",
      "[['▁m'], ['▁o'], ['▁b'], ['▁i'], ['▁l'], ['▁e'], ['▁', '.'], ['▁p'], ['▁i'], ['▁p'], ['▁e'], ['▁', '.'], ['▁a'], ['▁', 'r'], ['▁i'], ['▁a'], ['▁', '.'], ['▁m'], ['▁i'], ['▁c'], ['▁', 'r'], ['▁o'], ['▁s'], ['▁o'], ['▁f'], ['▁t'], ['▁', '.'], ['▁c'], ['▁o'], ['▁m']]\n",
      "mobile pipe aria microsoft com\n"
     ]
    }
   ],
   "source": [
    "import random\n",
    "import youtokentome as yttm\n",
    "\n",
    "train_data_path = \"domains.txt\"\n",
    "model_path = \"./yttm_model/yttm_ads.model\"\n",
    "\n",
    "# Training model\n",
    "yttm.BPE.train(data=train_data_path, vocab_size=300, model=model_path)\n",
    "\n",
    "# Loading model\n",
    "bpe = yttm.BPE(model=model_path)\n",
    "\n",
    "# Two types of tokenization\n",
    "print(bpe.encode(list(' '.join(df.domain.values[0].split('.'))), output_type=yttm.OutputType.ID))\n",
    "print(bpe.encode(list(df.domain.values[0]), output_type=yttm.OutputType.SUBWORD))\n",
    "print(' '.join(df.domain.values[0].split('.')))"
   ]
  },
  {
   "cell_type": "markdown",
   "metadata": {},
   "source": [
    "# Siamese Model with triplet loss/metric learning"
   ]
  },
  {
   "cell_type": "code",
   "execution_count": 225,
   "metadata": {},
   "outputs": [],
   "source": [
    "def build_siamese():\n",
    "    \n",
    "    def base_model():\n",
    "        query_input = Input(shape=(30,))\n",
    "        token_embedding = tf.keras.layers.Embedding(input_dim=301, output_dim=64)\n",
    "        query_embeddings = token_embedding(query_input)\n",
    "        qdense1 = Dense(32,activation='relu')(Flatten()(query_embeddings))\n",
    "        qdense2 = Dense(32,activation='relu')(qdense1)\n",
    "        qdense3 = Dense(32,activation=None)(qdense2)\n",
    "        return Model(inputs=query_input,outputs=qdense3)\n",
    "    \n",
    "    def metric():\n",
    "        inputs = Input(shape=(64,))\n",
    "        d1 = Dense(64,activation='relu')(inputs)\n",
    "        d2 = Dense(64,activation='relu')(d1)\n",
    "        d3 = Dense(2,activation='softmax')(d2)\n",
    "        return Model(inputs=inputs,outputs=d3)\n",
    "    \n",
    "    def triplet_loss(true,pred):\n",
    "        M1 = 1.\n",
    "        M2 = .0\n",
    "        loss = tf.reduce_mean(tf.maximum(pred[:,0]**2 - pred[:,1]**2 + M1,0))\n",
    "        return loss\n",
    "    \n",
    "    def custom_acc(true,pred):\n",
    "        print(pred.get_shape().as_list())\n",
    "        pred_ad_1 = tf.cast(tf.where(pred[:,0] < pred[:,1] ,1,0),tf.int16)\n",
    "        total = tf.keras.backend.sum(tf.cast(pred_ad_1,tf.float32))\n",
    "        return total/tf.cast(tf.size(pred_ad_1),tf.float32)\n",
    "    \n",
    "    input_pos = Input(shape=(30,))\n",
    "    input_neg = Input(shape=(30,))\n",
    "    input_anchor_1 = Input(shape=(30,))\n",
    "    \n",
    "    ad_model = attention_model()\n",
    "    metric_model = metric()\n",
    "    \n",
    "    pos = ad_model(input_pos)\n",
    "    anchor_pos = ad_model(input_anchor_1)\n",
    "    neg = ad_model(input_neg)\n",
    "    \n",
    "    AP = metric_model(Concatenate(axis=-1)([pos,anchor_pos]))\n",
    "    AN = metric_model(Concatenate(axis=-1)([neg,anchor_pos]))\n",
    "    \n",
    "    distances = tf.keras.layers.concatenate([AP[:,:1],AN[:,:1]],axis=1)\n",
    "    \n",
    "    metric_m = Model(inputs=[input_pos,input_neg,input_anchor_1],outputs=distances)\n",
    "    metric_m.compile(optimizer=SGD(learning_rate=1e-2),loss=quadruple_loss,metrics=[custom_acc])\n",
    "    return metric_m"
   ]
  },
  {
   "cell_type": "code",
   "execution_count": 228,
   "metadata": {},
   "outputs": [],
   "source": [
    "class model_wrapper():\n",
    "    def __init__(self,ml_model,tok_model):\n",
    "        self.ml_model = ml_model\n",
    "        self.tok_model = tok_model\n",
    "    def predict(self,x,y,z):\n",
    "        encoded_x = pad_sequences(self.tok_model.encode([x], output_type=yttm.OutputType.ID),30,padding='post').reshape(1,50)\n",
    "        encoded_y = pad_sequences(self.tok_model.encode([y], output_type=yttm.OutputType.ID),30,padding='post').reshape(1,50)\n",
    "        encoded_z = pad_sequences(self.tok_model.encode([z], output_type=yttm.OutputType.ID),30,padding='post').reshape(1,50)\n",
    "        return self.ml_model.predict([encoded_x,encoded_y,encoded_z])"
   ]
  },
  {
   "cell_type": "code",
   "execution_count": 233,
   "metadata": {},
   "outputs": [],
   "source": [
    "def make_query_pairs(dframe,tokenizer,sample_count=1000):\n",
    "    blacklist = dframe.loc[dframe.blocked==1].reset_index()\n",
    "    whitelist = dframe.loc[dframe.blocked==0].reset_index()\n",
    "    bl_len = len(blacklist)\n",
    "    wl_len = len(whitelist)\n",
    "    samples = sample_count\n",
    "    labels = np.random.choice([-1],size=samples)\n",
    "    label_out = []\n",
    "    pairs = []\n",
    "    anchors = []\n",
    "    anchors_2 = []\n",
    "    for i,l in tqdm(enumerate(labels)):\n",
    "        if l == -1:\n",
    "            if np.random.rand() > 0.0:\n",
    "                idx1 = np.random.choice(range(bl_len))\n",
    "                idx2 = np.random.choice(range(wl_len))\n",
    "                pairs.append((blacklist.iloc[idx1].domain,whitelist.iloc[idx2].domain))\n",
    "                label_out.append(0.)\n",
    "            else:\n",
    "                idx1 = np.random.choice(range(wl_len))\n",
    "                idx2 = np.random.choice(range(bl_len))\n",
    "                pairs.append((whitelist.iloc[idx1].domain,blacklist.iloc[idx2].domain))\n",
    "                label_out.append(0.)\n",
    "        else:\n",
    "            if np.random.randn() > 0.5:\n",
    "                idx1 = np.random.choice(range(wl_len))\n",
    "                idx2 = np.random.choice(range(wl_len))\n",
    "                pairs.append((whitelist.iloc[idx1].domain,whitelist.iloc[idx2].domain))\n",
    "                label_out.append(1.)\n",
    "            else:\n",
    "                idx1 = np.random.choice(range(bl_len))\n",
    "                idx2 = np.random.choice(range(bl_len))\n",
    "                pairs.append((blacklist.iloc[idx1].domain,blacklist.iloc[idx2].domain))\n",
    "                label_out.append(1.)\n",
    "        anch_idx = np.random.choice(range(bl_len))\n",
    "        anchors.append(blacklist.iloc[anch_idx].domain)\n",
    "        anch_idx_2 = np.random.choice(range(wl_len))\n",
    "        anchors_2.append(whitelist.iloc[anch_idx_2].domain)\n",
    "    ref = [i[0] for i in pairs]\n",
    "    query = [i[1] for i in pairs]\n",
    "    return ref,query,anchors,anchors_2\n"
   ]
  },
  {
   "cell_type": "code",
   "execution_count": 235,
   "metadata": {
    "scrolled": true
   },
   "outputs": [
    {
     "name": "stderr",
     "output_type": "stream",
     "text": [
      "100it [00:04, 24.58it/s]\n"
     ]
    }
   ],
   "source": [
    "text_ads,text_no_ads,anchors_ads,anchors_no_ads = make_query_pairs(df,bpe,sample_count=100)\n",
    "\n",
    "text_ads = pad_sequences(list(map(lambda x: bpe.encode(x),text_ads)),30,padding='post')\n",
    "text_no_ads = pad_sequences(list(map(lambda x: bpe.encode(x),text_no_ads)),30,padding='post')\n",
    "anchors_ads = pad_sequences(list(map(lambda x: bpe.encode(x),anchors_ads)),30,padding='post')\n",
    "anchors_no_ads = pad_sequences(list(map(lambda x: bpe.encode(x),anchors_no_ads)),30,padding='post')"
   ]
  },
  {
   "cell_type": "markdown",
   "metadata": {},
   "source": [
    "# Split into Train/Test"
   ]
  },
  {
   "cell_type": "code",
   "execution_count": 236,
   "metadata": {},
   "outputs": [],
   "source": [
    "from sklearn.model_selection import train_test_split\n",
    "\n",
    "train,test = train_test_split(range(len(text_ads)),test_size=0.10, random_state=5)\n",
    "\n",
    "ads_train = text_ads[train]\n",
    "no_ads_train = text_no_ads[train]\n",
    "anchor_ads_train = anchors_ads[train]\n",
    "anchor_no_ads_train = anchors_no_ads[train]\n",
    "\n",
    "ads_test = text_ads[test]\n",
    "no_ads_test = text_no_ads[test]\n",
    "anchor_ads_test = anchors_ads[test]\n",
    "anchor_no_ads_test = anchors_no_ads[test]"
   ]
  },
  {
   "cell_type": "code",
   "execution_count": 254,
   "metadata": {},
   "outputs": [
    {
     "name": "stdout",
     "output_type": "stream",
     "text": [
      "[None, 2]\n"
     ]
    }
   ],
   "source": [
    "dd_model = build_double_dragon() # initialize the model"
   ]
  },
  {
   "cell_type": "code",
   "execution_count": 255,
   "metadata": {},
   "outputs": [
    {
     "name": "stdout",
     "output_type": "stream",
     "text": [
      "Train on 90 samples, validate on 10 samples\n",
      "Epoch 1/100\n",
      "[None, 2]\n",
      "[None, 2]\n",
      "64/90 [====================>.........] - ETA: 0s - loss: 0.9998 - custom_acc: 0.5312 [None, 2]\n",
      "90/90 [==============================] - 2s 20ms/sample - loss: 0.9998 - custom_acc: 0.5521 - val_loss: 1.0010 - val_custom_acc: 0.4375\n",
      "Epoch 2/100\n",
      "90/90 [==============================] - 0s 2ms/sample - loss: 0.9996 - custom_acc: 0.5000 - val_loss: 1.0010 - val_custom_acc: 0.4375\n",
      "Epoch 3/100\n",
      "90/90 [==============================] - 0s 2ms/sample - loss: 0.9994 - custom_acc: 0.5208 - val_loss: 1.0008 - val_custom_acc: 0.4375\n",
      "Epoch 4/100\n",
      "90/90 [==============================] - 0s 2ms/sample - loss: 0.9992 - custom_acc: 0.6042 - val_loss: 1.0005 - val_custom_acc: 0.7500\n",
      "Epoch 5/100\n",
      "90/90 [==============================] - 0s 2ms/sample - loss: 0.9990 - custom_acc: 0.6042 - val_loss: 1.0004 - val_custom_acc: 0.6875\n",
      "Epoch 6/100\n",
      "90/90 [==============================] - 0s 2ms/sample - loss: 0.9988 - custom_acc: 0.6458 - val_loss: 1.0003 - val_custom_acc: 0.7500\n",
      "Epoch 7/100\n",
      "90/90 [==============================] - 0s 2ms/sample - loss: 0.9987 - custom_acc: 0.6771 - val_loss: 1.0005 - val_custom_acc: 0.6875\n",
      "Epoch 8/100\n",
      "90/90 [==============================] - 0s 2ms/sample - loss: 0.9985 - custom_acc: 0.6875 - val_loss: 1.0004 - val_custom_acc: 0.6875\n",
      "Epoch 9/100\n",
      "90/90 [==============================] - 0s 2ms/sample - loss: 0.9983 - custom_acc: 0.6667 - val_loss: 1.0003 - val_custom_acc: 0.7500\n",
      "Epoch 10/100\n",
      "90/90 [==============================] - 0s 2ms/sample - loss: 0.9981 - custom_acc: 0.7188 - val_loss: 1.0002 - val_custom_acc: 0.8125\n",
      "Epoch 11/100\n",
      "90/90 [==============================] - 0s 2ms/sample - loss: 0.9979 - custom_acc: 0.6771 - val_loss: 1.0002 - val_custom_acc: 0.8125\n",
      "Epoch 12/100\n",
      "90/90 [==============================] - 0s 2ms/sample - loss: 0.9977 - custom_acc: 0.6979 - val_loss: 1.0001 - val_custom_acc: 0.7500\n",
      "Epoch 13/100\n",
      "90/90 [==============================] - 0s 2ms/sample - loss: 0.9975 - custom_acc: 0.7500 - val_loss: 1.0004 - val_custom_acc: 0.4375\n",
      "Epoch 14/100\n",
      "90/90 [==============================] - 0s 2ms/sample - loss: 0.9974 - custom_acc: 0.7083 - val_loss: 1.0001 - val_custom_acc: 0.5000\n",
      "Epoch 15/100\n",
      "90/90 [==============================] - 0s 2ms/sample - loss: 0.9971 - custom_acc: 0.7188 - val_loss: 1.0001 - val_custom_acc: 0.5000\n",
      "Epoch 16/100\n",
      "90/90 [==============================] - 0s 2ms/sample - loss: 0.9969 - custom_acc: 0.7188 - val_loss: 1.0001 - val_custom_acc: 0.7500\n",
      "Epoch 17/100\n",
      "90/90 [==============================] - 0s 2ms/sample - loss: 0.9967 - custom_acc: 0.6875 - val_loss: 1.0002 - val_custom_acc: 0.5000\n",
      "Epoch 18/100\n",
      "90/90 [==============================] - 0s 2ms/sample - loss: 0.9964 - custom_acc: 0.7396 - val_loss: 1.0002 - val_custom_acc: 0.5000\n",
      "Epoch 19/100\n",
      "90/90 [==============================] - 0s 2ms/sample - loss: 0.9961 - custom_acc: 0.7604 - val_loss: 1.0003 - val_custom_acc: 0.4375\n",
      "Epoch 20/100\n",
      "90/90 [==============================] - 0s 2ms/sample - loss: 0.9959 - custom_acc: 0.7292 - val_loss: 1.0000 - val_custom_acc: 0.4375\n",
      "Epoch 21/100\n",
      "90/90 [==============================] - 0s 2ms/sample - loss: 0.9956 - custom_acc: 0.7917 - val_loss: 1.0002 - val_custom_acc: 0.4375\n",
      "Epoch 22/100\n",
      "90/90 [==============================] - 0s 2ms/sample - loss: 0.9954 - custom_acc: 0.7708 - val_loss: 1.0000 - val_custom_acc: 0.4375\n",
      "Epoch 23/100\n",
      "90/90 [==============================] - 0s 2ms/sample - loss: 0.9951 - custom_acc: 0.8021 - val_loss: 0.9998 - val_custom_acc: 0.8125\n",
      "Epoch 24/100\n",
      "90/90 [==============================] - 0s 2ms/sample - loss: 0.9948 - custom_acc: 0.7708 - val_loss: 0.9997 - val_custom_acc: 0.7500\n",
      "Epoch 25/100\n",
      "90/90 [==============================] - 0s 2ms/sample - loss: 0.9945 - custom_acc: 0.7812 - val_loss: 0.9998 - val_custom_acc: 0.7500\n",
      "Epoch 26/100\n",
      "90/90 [==============================] - 0s 3ms/sample - loss: 0.9942 - custom_acc: 0.7812 - val_loss: 0.9998 - val_custom_acc: 0.7500\n",
      "Epoch 27/100\n",
      "90/90 [==============================] - 0s 2ms/sample - loss: 0.9938 - custom_acc: 0.7917 - val_loss: 0.9994 - val_custom_acc: 0.7500\n",
      "Epoch 28/100\n",
      "90/90 [==============================] - 0s 2ms/sample - loss: 0.9934 - custom_acc: 0.7708 - val_loss: 0.9995 - val_custom_acc: 0.7500\n",
      "Epoch 29/100\n",
      "90/90 [==============================] - 0s 2ms/sample - loss: 0.9930 - custom_acc: 0.8333 - val_loss: 0.9996 - val_custom_acc: 0.7500\n",
      "Epoch 30/100\n",
      "90/90 [==============================] - 0s 2ms/sample - loss: 0.9926 - custom_acc: 0.8125 - val_loss: 0.9994 - val_custom_acc: 0.7500\n",
      "Epoch 31/100\n",
      "90/90 [==============================] - 0s 2ms/sample - loss: 0.9922 - custom_acc: 0.8333 - val_loss: 0.9992 - val_custom_acc: 0.7500\n",
      "Epoch 32/100\n",
      "90/90 [==============================] - 0s 3ms/sample - loss: 0.9918 - custom_acc: 0.8542 - val_loss: 0.9990 - val_custom_acc: 0.7500\n",
      "Epoch 33/100\n",
      "90/90 [==============================] - 0s 3ms/sample - loss: 0.9912 - custom_acc: 0.8646 - val_loss: 0.9986 - val_custom_acc: 0.7500\n",
      "Epoch 34/100\n",
      "90/90 [==============================] - 0s 2ms/sample - loss: 0.9907 - custom_acc: 0.8646 - val_loss: 0.9988 - val_custom_acc: 0.7500\n",
      "Epoch 35/100\n",
      "90/90 [==============================] - 0s 3ms/sample - loss: 0.9900 - custom_acc: 0.8438 - val_loss: 0.9987 - val_custom_acc: 0.7500\n",
      "Epoch 36/100\n",
      "90/90 [==============================] - 0s 2ms/sample - loss: 0.9893 - custom_acc: 0.8438 - val_loss: 0.9982 - val_custom_acc: 0.7500\n",
      "Epoch 37/100\n",
      "90/90 [==============================] - 0s 2ms/sample - loss: 0.9885 - custom_acc: 0.8958 - val_loss: 0.9983 - val_custom_acc: 0.7500\n",
      "Epoch 38/100\n",
      "90/90 [==============================] - 0s 2ms/sample - loss: 0.9877 - custom_acc: 0.9062 - val_loss: 0.9977 - val_custom_acc: 0.7500\n",
      "Epoch 39/100\n",
      "90/90 [==============================] - 0s 2ms/sample - loss: 0.9867 - custom_acc: 0.9062 - val_loss: 0.9976 - val_custom_acc: 0.7500\n",
      "Epoch 40/100\n",
      "90/90 [==============================] - 0s 3ms/sample - loss: 0.9857 - custom_acc: 0.8958 - val_loss: 0.9974 - val_custom_acc: 0.7500\n",
      "Epoch 41/100\n",
      "90/90 [==============================] - 0s 2ms/sample - loss: 0.9848 - custom_acc: 0.9062 - val_loss: 0.9970 - val_custom_acc: 0.7500\n",
      "Epoch 42/100\n",
      "90/90 [==============================] - 0s 2ms/sample - loss: 0.9838 - custom_acc: 0.9062 - val_loss: 0.9966 - val_custom_acc: 0.7500\n",
      "Epoch 43/100\n",
      "90/90 [==============================] - 0s 2ms/sample - loss: 0.9826 - custom_acc: 0.9167 - val_loss: 0.9959 - val_custom_acc: 0.7500\n",
      "Epoch 44/100\n",
      "90/90 [==============================] - 0s 2ms/sample - loss: 0.9815 - custom_acc: 0.9271 - val_loss: 0.9952 - val_custom_acc: 0.8125\n",
      "Epoch 45/100\n",
      "90/90 [==============================] - 0s 2ms/sample - loss: 0.9801 - custom_acc: 0.8854 - val_loss: 0.9948 - val_custom_acc: 0.8125\n",
      "Epoch 46/100\n",
      "90/90 [==============================] - 0s 2ms/sample - loss: 0.9788 - custom_acc: 0.9271 - val_loss: 0.9943 - val_custom_acc: 0.8125\n",
      "Epoch 47/100\n",
      "90/90 [==============================] - 0s 2ms/sample - loss: 0.9773 - custom_acc: 0.9375 - val_loss: 0.9940 - val_custom_acc: 0.8125\n",
      "Epoch 48/100\n",
      "90/90 [==============================] - 0s 2ms/sample - loss: 0.9756 - custom_acc: 0.9375 - val_loss: 0.9930 - val_custom_acc: 0.8125\n",
      "Epoch 49/100\n",
      "90/90 [==============================] - 0s 2ms/sample - loss: 0.9737 - custom_acc: 0.9375 - val_loss: 0.9920 - val_custom_acc: 0.8125\n",
      "Epoch 50/100\n",
      "90/90 [==============================] - 0s 2ms/sample - loss: 0.9717 - custom_acc: 0.9375 - val_loss: 0.9911 - val_custom_acc: 0.8125\n",
      "Epoch 51/100\n",
      "90/90 [==============================] - 0s 2ms/sample - loss: 0.9694 - custom_acc: 0.9375 - val_loss: 0.9899 - val_custom_acc: 0.8125\n",
      "Epoch 52/100\n",
      "90/90 [==============================] - 0s 2ms/sample - loss: 0.9670 - custom_acc: 0.9375 - val_loss: 0.9884 - val_custom_acc: 0.8125\n",
      "Epoch 53/100\n",
      "90/90 [==============================] - 0s 2ms/sample - loss: 0.9644 - custom_acc: 0.9375 - val_loss: 0.9873 - val_custom_acc: 0.8125\n",
      "Epoch 54/100\n",
      "90/90 [==============================] - 0s 2ms/sample - loss: 0.9615 - custom_acc: 0.9375 - val_loss: 0.9857 - val_custom_acc: 0.8125\n",
      "Epoch 55/100\n"
     ]
    },
    {
     "name": "stdout",
     "output_type": "stream",
     "text": [
      "90/90 [==============================] - 0s 2ms/sample - loss: 0.9585 - custom_acc: 0.9375 - val_loss: 0.9841 - val_custom_acc: 0.8750\n",
      "Epoch 56/100\n",
      "90/90 [==============================] - 0s 2ms/sample - loss: 0.9551 - custom_acc: 0.9375 - val_loss: 0.9821 - val_custom_acc: 0.8750\n",
      "Epoch 57/100\n",
      "90/90 [==============================] - 0s 2ms/sample - loss: 0.9511 - custom_acc: 0.9062 - val_loss: 0.9803 - val_custom_acc: 0.8750\n",
      "Epoch 58/100\n",
      "90/90 [==============================] - 0s 2ms/sample - loss: 0.9468 - custom_acc: 0.9479 - val_loss: 0.9781 - val_custom_acc: 0.8750\n",
      "Epoch 59/100\n",
      "90/90 [==============================] - 0s 2ms/sample - loss: 0.9419 - custom_acc: 0.9375 - val_loss: 0.9761 - val_custom_acc: 0.8750\n",
      "Epoch 60/100\n",
      "90/90 [==============================] - 0s 2ms/sample - loss: 0.9369 - custom_acc: 0.9583 - val_loss: 0.9720 - val_custom_acc: 0.8750\n",
      "Epoch 61/100\n",
      "90/90 [==============================] - 0s 2ms/sample - loss: 0.9309 - custom_acc: 0.9479 - val_loss: 0.9697 - val_custom_acc: 0.8750\n",
      "Epoch 62/100\n",
      "90/90 [==============================] - 0s 2ms/sample - loss: 0.9242 - custom_acc: 0.9583 - val_loss: 0.9667 - val_custom_acc: 0.8750\n",
      "Epoch 63/100\n",
      "90/90 [==============================] - 0s 2ms/sample - loss: 0.9171 - custom_acc: 0.9583 - val_loss: 0.9620 - val_custom_acc: 0.8750\n",
      "Epoch 64/100\n",
      "90/90 [==============================] - 0s 2ms/sample - loss: 0.9087 - custom_acc: 0.9583 - val_loss: 0.9571 - val_custom_acc: 0.8750\n",
      "Epoch 65/100\n",
      "90/90 [==============================] - 0s 2ms/sample - loss: 0.8987 - custom_acc: 0.9688 - val_loss: 0.9532 - val_custom_acc: 0.8750\n",
      "Epoch 66/100\n",
      "90/90 [==============================] - 0s 2ms/sample - loss: 0.8880 - custom_acc: 0.9688 - val_loss: 0.9461 - val_custom_acc: 0.8750\n",
      "Epoch 67/100\n",
      "90/90 [==============================] - 0s 2ms/sample - loss: 0.8749 - custom_acc: 0.9688 - val_loss: 0.9397 - val_custom_acc: 0.8750\n",
      "Epoch 68/100\n",
      "90/90 [==============================] - 0s 2ms/sample - loss: 0.8600 - custom_acc: 0.9583 - val_loss: 0.9300 - val_custom_acc: 0.8750\n",
      "Epoch 69/100\n",
      "90/90 [==============================] - 0s 2ms/sample - loss: 0.8428 - custom_acc: 0.9583 - val_loss: 0.9183 - val_custom_acc: 0.8750\n",
      "Epoch 70/100\n",
      "90/90 [==============================] - 0s 2ms/sample - loss: 0.8216 - custom_acc: 0.9688 - val_loss: 0.9090 - val_custom_acc: 0.8750\n",
      "Epoch 71/100\n",
      "90/90 [==============================] - 0s 2ms/sample - loss: 0.7982 - custom_acc: 0.9792 - val_loss: 0.8938 - val_custom_acc: 0.8750\n",
      "Epoch 72/100\n",
      "90/90 [==============================] - 0s 2ms/sample - loss: 0.7696 - custom_acc: 0.9792 - val_loss: 0.8877 - val_custom_acc: 0.9375\n",
      "Epoch 73/100\n",
      "90/90 [==============================] - 0s 2ms/sample - loss: 0.7373 - custom_acc: 0.9479 - val_loss: 0.8631 - val_custom_acc: 0.9375\n",
      "Epoch 74/100\n",
      "90/90 [==============================] - 0s 2ms/sample - loss: 0.7015 - custom_acc: 0.9792 - val_loss: 0.8336 - val_custom_acc: 0.9375\n",
      "Epoch 75/100\n",
      "90/90 [==============================] - 0s 2ms/sample - loss: 0.6533 - custom_acc: 0.9896 - val_loss: 0.8307 - val_custom_acc: 0.9375\n",
      "Epoch 76/100\n",
      "90/90 [==============================] - 0s 2ms/sample - loss: 0.6076 - custom_acc: 0.9896 - val_loss: 0.7724 - val_custom_acc: 0.9375\n",
      "Epoch 77/100\n",
      "90/90 [==============================] - 0s 2ms/sample - loss: 0.5500 - custom_acc: 0.9896 - val_loss: 0.7718 - val_custom_acc: 0.9375\n",
      "Epoch 78/100\n",
      "90/90 [==============================] - 0s 2ms/sample - loss: 0.5015 - custom_acc: 0.9896 - val_loss: 0.7098 - val_custom_acc: 0.9375\n",
      "Epoch 79/100\n",
      "90/90 [==============================] - 0s 2ms/sample - loss: 0.4611 - custom_acc: 1.0000 - val_loss: 0.6889 - val_custom_acc: 0.9375\n",
      "Epoch 80/100\n",
      "90/90 [==============================] - 0s 2ms/sample - loss: 0.3715 - custom_acc: 1.0000 - val_loss: 0.6600 - val_custom_acc: 0.9375\n",
      "Epoch 81/100\n",
      "90/90 [==============================] - 0s 2ms/sample - loss: 0.3584 - custom_acc: 1.0000 - val_loss: 0.5925 - val_custom_acc: 0.9375\n",
      "Epoch 82/100\n",
      "90/90 [==============================] - 0s 2ms/sample - loss: 0.2923 - custom_acc: 1.0000 - val_loss: 0.6735 - val_custom_acc: 0.9375\n",
      "Epoch 83/100\n",
      "90/90 [==============================] - 0s 2ms/sample - loss: 0.2477 - custom_acc: 1.0000 - val_loss: 0.6033 - val_custom_acc: 0.9375\n",
      "Epoch 84/100\n",
      "90/90 [==============================] - 0s 2ms/sample - loss: 0.2068 - custom_acc: 1.0000 - val_loss: 0.5868 - val_custom_acc: 0.9375\n",
      "Epoch 85/100\n",
      "90/90 [==============================] - 0s 2ms/sample - loss: 0.1601 - custom_acc: 1.0000 - val_loss: 0.4944 - val_custom_acc: 0.9375\n",
      "Epoch 86/100\n",
      "90/90 [==============================] - 0s 2ms/sample - loss: 0.1654 - custom_acc: 1.0000 - val_loss: 0.6866 - val_custom_acc: 0.9375\n",
      "Epoch 87/100\n",
      "90/90 [==============================] - 0s 2ms/sample - loss: 0.1451 - custom_acc: 1.0000 - val_loss: 0.4713 - val_custom_acc: 0.9375\n",
      "Epoch 88/100\n",
      "90/90 [==============================] - 0s 2ms/sample - loss: 0.1111 - custom_acc: 1.0000 - val_loss: 0.4423 - val_custom_acc: 0.9375\n",
      "Epoch 89/100\n",
      "90/90 [==============================] - 0s 2ms/sample - loss: 0.0770 - custom_acc: 1.0000 - val_loss: 0.5208 - val_custom_acc: 0.9375\n",
      "Epoch 90/100\n",
      "90/90 [==============================] - 0s 2ms/sample - loss: 0.0636 - custom_acc: 1.0000 - val_loss: 0.4193 - val_custom_acc: 0.9375\n",
      "Epoch 91/100\n",
      "90/90 [==============================] - 0s 2ms/sample - loss: 0.0499 - custom_acc: 1.0000 - val_loss: 0.4099 - val_custom_acc: 0.9375\n",
      "Epoch 92/100\n",
      "90/90 [==============================] - 0s 2ms/sample - loss: 0.0413 - custom_acc: 1.0000 - val_loss: 0.4056 - val_custom_acc: 0.9375\n",
      "Epoch 93/100\n",
      "90/90 [==============================] - 0s 2ms/sample - loss: 0.0345 - custom_acc: 1.0000 - val_loss: 0.3968 - val_custom_acc: 0.9375\n",
      "Epoch 94/100\n",
      "90/90 [==============================] - 0s 2ms/sample - loss: 0.0293 - custom_acc: 1.0000 - val_loss: 0.3923 - val_custom_acc: 0.9375\n",
      "Epoch 95/100\n",
      "90/90 [==============================] - 0s 3ms/sample - loss: 0.0250 - custom_acc: 1.0000 - val_loss: 0.3876 - val_custom_acc: 0.9375\n",
      "Epoch 96/100\n",
      "90/90 [==============================] - 0s 2ms/sample - loss: 0.0237 - custom_acc: 1.0000 - val_loss: 0.4108 - val_custom_acc: 0.9375\n",
      "Epoch 97/100\n",
      "90/90 [==============================] - 0s 2ms/sample - loss: 0.0212 - custom_acc: 1.0000 - val_loss: 0.3809 - val_custom_acc: 0.9375\n",
      "Epoch 98/100\n",
      "90/90 [==============================] - 0s 2ms/sample - loss: 0.0176 - custom_acc: 1.0000 - val_loss: 0.4029 - val_custom_acc: 0.9375\n",
      "Epoch 99/100\n",
      "90/90 [==============================] - 0s 2ms/sample - loss: 0.0161 - custom_acc: 1.0000 - val_loss: 0.3754 - val_custom_acc: 0.9375\n",
      "Epoch 100/100\n",
      "90/90 [==============================] - 0s 2ms/sample - loss: 0.0146 - custom_acc: 1.0000 - val_loss: 0.3727 - val_custom_acc: 0.9375\n"
     ]
    },
    {
     "data": {
      "text/plain": [
       "(array([ 1.,  0.,  0.,  1.,  0.,  0.,  0.,  0.,  0.,  0.,  1.,  0.,  0.,\n",
       "         1.,  0.,  0.,  2.,  3.,  1.,  2.,  3.,  4.,  3.,  7.,  7.,  8.,\n",
       "        16., 10., 14.,  6.]),\n",
       " array([0.97763115, 0.9783445 , 0.9790578 , 0.97977114, 0.9804844 ,\n",
       "        0.9811978 , 0.98191106, 0.9826244 , 0.98333776, 0.98405105,\n",
       "        0.9847644 , 0.9854777 , 0.98619103, 0.9869043 , 0.9876177 ,\n",
       "        0.98833096, 0.9890443 , 0.98975766, 0.99047095, 0.9911843 ,\n",
       "        0.9918976 , 0.99261093, 0.9933242 , 0.99403757, 0.9947509 ,\n",
       "        0.9954642 , 0.99617755, 0.99689084, 0.9976042 , 0.9983175 ,\n",
       "        0.9990308 ], dtype=float32),\n",
       " <BarContainer object of 30 artists>)"
      ]
     },
     "execution_count": 255,
     "metadata": {},
     "output_type": "execute_result"
    },
    {
     "data": {
      "image/png": "[encoded data removed]",
      "text/plain": [
       "<Figure size 720x720 with 1 Axes>"
      ]
     },
     "metadata": {
      "needs_background": "light"
     },
     "output_type": "display_data"
    }
   ],
   "source": [
    "semi_hard_idx = (np.abs(distances[:,0]) >= 0.0)&(np.abs(distances[:,0]) <= 1.)\n",
    "\n",
    "hist = dd_model.fit([no_ads_train[semi_hard_idx],ads_train[semi_hard_idx],anchor_no_ads_train[semi_hard_idx]],np.zeros((np.sum(semi_hard_idx),1)),epochs=100,batch_size=8,validation_data=([no_ads_test,ads_test,anchor_no_ads_test],np.zeros((len(ads_test),1))))\n",
    "\n",
    "distances = dd_model.predict([no_ads_train,ads_train,anchor_ads_train])\n",
    "pl.figure(figsize=(10,10))\n",
    "pl.hist(distances[:,0],bins=30)\n",
    "pl.hist(distances[:,1],bins=30,alpha=0.4)"
   ]
  },
  {
   "cell_type": "code",
   "execution_count": 264,
   "metadata": {},
   "outputs": [
    {
     "data": {
      "text/plain": [
       "(array([-20.,   0.,  20.,  40.,  60.,  80., 100., 120.]),\n",
       " [Text(0, 0, ''),\n",
       "  Text(0, 0, ''),\n",
       "  Text(0, 0, ''),\n",
       "  Text(0, 0, ''),\n",
       "  Text(0, 0, ''),\n",
       "  Text(0, 0, ''),\n",
       "  Text(0, 0, ''),\n",
       "  Text(0, 0, '')])"
      ]
     },
     "execution_count": 264,
     "metadata": {},
     "output_type": "execute_result"
    },
    {
     "data": {
      "image/png": "[encoded data removed]",
      "text/plain": [
       "<Figure size 720x720 with 1 Axes>"
      ]
     },
     "metadata": {
      "needs_background": "light"
     },
     "output_type": "display_data"
    }
   ],
   "source": [
    "pl.figure(figsize=(10,10))\n",
    "pl.plot(np.log10(hist.history['loss']))\n",
    "pl.ylabel(r'$log_{10}$Triplet Loss',size=20)\n",
    "pl.xlabel('Epochs',size=20)\n",
    "pl.yticks(size=15)\n",
    "pl.xticks(size=15)"
   ]
  },
  {
   "cell_type": "markdown",
   "metadata": {},
   "source": [
    "# Save the Model"
   ]
  },
  {
   "cell_type": "code",
   "execution_count": 265,
   "metadata": {},
   "outputs": [],
   "source": [
    "tf.keras.models.save_model(dd_model,'./models/siamese_metric_triplet_loss.h5')\n",
    "# Example loading model back up with custom loss and accuracy\n",
    "# model = tf.keras.models.load_model('./models/metric_model.h5',custom_objects={'triplet_loss':triplet_loss,'custom_acc':custom_acc})"
   ]
  },
  {
   "cell_type": "markdown",
   "metadata": {},
   "source": [
    "# Further Model Testing"
   ]
  },
  {
   "cell_type": "code",
   "execution_count": 267,
   "metadata": {},
   "outputs": [
    {
     "name": "stderr",
     "output_type": "stream",
     "text": [
      "1000it [00:39, 25.17it/s]\n"
     ]
    }
   ],
   "source": [
    "# Load new test dataset\n",
    "test_ref,test_query,test_anchors_1,test_anchors_2 = make_query_pairs(df,bpe,sample_count=1000)\n",
    "test_ref_enc = pad_sequences(list(map(lambda x: bpe.encode(x),test_ref)),30,padding='post')\n",
    "test_query_enc = pad_sequences(list(map(lambda x: bpe.encode(x),test_query)),30,padding='post')\n",
    "test_anchors_1_enc = pad_sequences(list(map(lambda x: bpe.encode(x),test_anchors_1)),30,padding='post')\n",
    "test_anchors_2_enc = pad_sequences(list(map(lambda x: bpe.encode(x),test_anchors_2)),30,padding='post')"
   ]
  },
  {
   "cell_type": "code",
   "execution_count": 340,
   "metadata": {},
   "outputs": [],
   "source": [
    "domain_stat_test = pad_sequences(1000*[bpe.encode('real.github.com')],30,padding='post')"
   ]
  },
  {
   "cell_type": "code",
   "execution_count": 341,
   "metadata": {},
   "outputs": [
    {
     "name": "stdout",
     "output_type": "stream",
     "text": [
      "Prob. domain is ad server: 61.0%\n"
     ]
    }
   ],
   "source": [
    "domain_test_distances = dd_model.predict([domain_stat_test,test_ref_enc,test_anchors_1_enc])\n",
    "print('Prob. domain is ad server: {0}%'.format(100.*np.sum((domain_test_distances[:,0]>domain_test_distances[:,1]))/len(domain_test_distances)))"
   ]
  },
  {
   "cell_type": "markdown",
   "metadata": {},
   "source": [
    "# Look at Ad/No Ad Domains in Embedding"
   ]
  },
  {
   "cell_type": "code",
   "execution_count": 302,
   "metadata": {},
   "outputs": [],
   "source": [
    "embed_model = Model(dd_model.layers[3].layers[1].input,dd_model.layers[3].layers[5].output)"
   ]
  },
  {
   "cell_type": "code",
   "execution_count": 303,
   "metadata": {},
   "outputs": [],
   "source": [
    "no_ads = embed_model.predict(test_ref_enc).reshape(1000,-1)\n",
    "ads = embed_model.predict(test_query_enc).reshape(1000,-1)"
   ]
  },
  {
   "cell_type": "code",
   "execution_count": 304,
   "metadata": {},
   "outputs": [],
   "source": [
    "from sklearn.decomposition import PCA\n",
    "\n",
    "pca_model = PCA(n_components=2).fit(np.vstack((no_ads,ads)))\n",
    "pca_no_ads = pca_model.transform(no_ads)\n",
    "pca_ads = pca_model.transform(ads)"
   ]
  },
  {
   "cell_type": "code",
   "execution_count": 311,
   "metadata": {},
   "outputs": [
    {
     "data": {
      "text/plain": [
       "([], [])"
      ]
     },
     "execution_count": 311,
     "metadata": {},
     "output_type": "execute_result"
    },
    {
     "data": {
      "image/png": "[encoded data removed]",
      "text/plain": [
       "<Figure size 720x720 with 1 Axes>"
      ]
     },
     "metadata": {},
     "output_type": "display_data"
    }
   ],
   "source": [
    "pl.figure(figsize=(10,10))\n",
    "pl.scatter(pca_no_ads[:,0],pca_no_ads[:,1],s=10,alpha=0.3,label='No Ads')\n",
    "pl.scatter(pca_ads[:,0],pca_ads[:,1],s=10,alpha=0.3,label='Ads')\n",
    "pl.legend()\n",
    "pl.xticks([])\n",
    "pl.yticks([])"
   ]
  },
  {
   "cell_type": "code",
   "execution_count": null,
   "metadata": {},
   "outputs": [],
   "source": []
  }
 ],
 "metadata": {
  "kernelspec": {
   "display_name": "Python 3",
   "language": "python",
   "name": "python3"
  },
  "language_info": {
   "codemirror_mode": {
    "name": "ipython",
    "version": 3
   },
   "file_extension": ".py",
   "mimetype": "text/x-python",
   "name": "python",
   "nbconvert_exporter": "python",
   "pygments_lexer": "ipython3",
   "version": "3.7.9"
  }
 },
 "nbformat": 4,
 "nbformat_minor": 4
}
